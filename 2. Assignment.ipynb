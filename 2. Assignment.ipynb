{
 "cells": [
  {
   "cell_type": "code",
   "execution_count": null,
   "id": "1aef1656",
   "metadata": {},
   "outputs": [],
   "source": [
    "#1. Write a python comment saying **`Python variables and Constants`**\n",
    "#python variable and  constants"
   ]
  },
  {
   "cell_type": "code",
   "execution_count": null,
   "id": "42918a4f",
   "metadata": {},
   "outputs": [],
   "source": [
    "#2. Declare a **`first_name`** variable and assign a value to it\n",
    "first_name = \"Pragyan\""
   ]
  },
  {
   "cell_type": "code",
   "execution_count": null,
   "id": "1fee615b",
   "metadata": {},
   "outputs": [],
   "source": [
    "# Declare a **`last_name`** variable and assign a value to it\n",
    "last_name = \"Khadka\""
   ]
  },
  {
   "cell_type": "code",
   "execution_count": null,
   "id": "7b36db18",
   "metadata": {},
   "outputs": [],
   "source": [
    "#   Declare a **`full_name`** variable and assign a value to it\n",
    "full_name =\"Pragyan Khadka\""
   ]
  },
  {
   "cell_type": "code",
   "execution_count": null,
   "id": "0a6bfbdd",
   "metadata": {},
   "outputs": [],
   "source": [
    "#   Declare a variable **`is_light_on`** and assign a value to it\n",
    "is_light_on = True"
   ]
  },
  {
   "cell_type": "code",
   "execution_count": null,
   "id": "c8c0b0f1",
   "metadata": {},
   "outputs": [],
   "source": [
    "# Declare multiple variable on one line\n",
    "first_name,last_name = \"Pragyan\",\"Khadka\""
   ]
  },
  {
   "cell_type": "code",
   "execution_count": null,
   "id": "d04b8446",
   "metadata": {},
   "outputs": [
    {
     "name": "stdout",
     "output_type": "stream",
     "text": [
      "<class 'str'>\n",
      "<class 'bool'>\n"
     ]
    }
   ],
   "source": [
    "#   Check the data type of all your variables using **`type()`** built-in function\n",
    "first_name = \"Pragyan\"\n",
    "is_light_on = True\n",
    "print(type(first_name))\n",
    "print(type(is_light_on))"
   ]
  },
  {
   "cell_type": "code",
   "execution_count": null,
   "id": "ece34e67",
   "metadata": {},
   "outputs": [
    {
     "name": "stdout",
     "output_type": "stream",
     "text": [
      "7\n"
     ]
    }
   ],
   "source": [
    "#   Using the **`len()`** built-in function, find the length of your first name\n",
    "first_name = \"Pragyan\"\n",
    "print(len(first_name))"
   ]
  },
  {
   "cell_type": "code",
   "execution_count": null,
   "id": "2af9d77c",
   "metadata": {},
   "outputs": [
    {
     "data": {
      "text/plain": [
       "False"
      ]
     },
     "execution_count": 13,
     "metadata": {},
     "output_type": "execute_result"
    }
   ],
   "source": [
    "#   Compare the length of your **`first_name`** and your **`last_name`**\n",
    "first_name = \"Pragyan\"\n",
    "last_name = \"Khadka\"\n",
    "len(first_name) == len(last_name)"
   ]
  },
  {
   "cell_type": "code",
   "execution_count": null,
   "id": "c6ae016c",
   "metadata": {},
   "outputs": [
    {
     "name": "stdout",
     "output_type": "stream",
     "text": [
      "The sum of both numbers is 10\n"
     ]
    }
   ],
   "source": [
    "#    Add **`num_1`** and **`num_2`** and assign the value to a variable **`total`**\n",
    "num_1 = 6\n",
    "num_2 = 4\n",
    "\n",
    "total = num_1 + num_2\n",
    "print(\"The sum of both numbers is\",total)"
   ]
  },
  {
   "cell_type": "code",
   "execution_count": null,
   "id": "3a6a5844",
   "metadata": {},
   "outputs": [],
   "source": [
    "#    Subtract **`num_2`** from **`num_1`** and assign the value to a variable **`difference`**\n",
    "num_1 = 6\n",
    "num_2 = 4\n",
    "\n",
    "difference = num_1 - num_2\n",
    "print(\"The sub of both numbers is\",difference)"
   ]
  },
  {
   "cell_type": "code",
   "execution_count": null,
   "id": "8a7045af",
   "metadata": {},
   "outputs": [
    {
     "name": "stdout",
     "output_type": "stream",
     "text": [
      "The product of both numbers is 24\n"
     ]
    }
   ],
   "source": [
    "#    Multiply **`num_1`** and **`num_2`** and assign the value to a variable **`product`**\n",
    "num_1 = 6\n",
    "num_2 = 4\n",
    "\n",
    "product = num_1 * num_2\n",
    "print(\"The product of both numbers is\",product)"
   ]
  },
  {
   "cell_type": "code",
   "execution_count": null,
   "id": "6e6d0f07",
   "metadata": {},
   "outputs": [
    {
     "name": "stdout",
     "output_type": "stream",
     "text": [
      "The quotient of both numbers is 1.5\n"
     ]
    }
   ],
   "source": [
    "#   Divide **`num_1`** by **`num_2`** and assign the value to a variable **`division`**\n",
    "num_1 = 6\n",
    "num_2 = 4\n",
    "\n",
    "division = num_1 / num_2\n",
    "print(\"The quotient of both numbers is\",division)"
   ]
  },
  {
   "cell_type": "code",
   "execution_count": null,
   "id": "8281f600",
   "metadata": {},
   "outputs": [],
   "source": [
    "# Use modulus division to find **`num_2`** divided by **`num_1`** and assign the value to a variable **`remainder`**\n",
    "num_1 = 6\n",
    "num_2 = 4\n",
    "\n",
    "reminder = num_2 % num_1\n",
    "\n",
    "print(\"The reminder of both numbers is\",reminder)"
   ]
  },
  {
   "cell_type": "code",
   "execution_count": null,
   "id": "0ddb0b80",
   "metadata": {},
   "outputs": [],
   "source": [
    "# Calculate **`num_1`** to the power of **`num_2`** and assign the value to a variable **`exp`**\n",
    "num_1 = 6\n",
    "num_2 = 4\n",
    "\n",
    "exp = num_2 ** num_1\n",
    "\n",
    "print(\"The exponent of both numbers is\",exp)"
   ]
  },
  {
   "cell_type": "code",
   "execution_count": null,
   "id": "017b5717",
   "metadata": {},
   "outputs": [],
   "source": [
    "# Find floor division of **`num_1`** by **`num_2`** and assign the value to a variable **`floor_division`**\n",
    "num_1 = 6\n",
    "num_2 = 4\n",
    "\n",
    "floor_division = num_1 // num_2\n",
    "\n",
    "print(\"The floor division of both numbers is\",floor_division)"
   ]
  },
  {
   "cell_type": "code",
   "execution_count": null,
   "id": "d4bc2b12",
   "metadata": {},
   "outputs": [],
   "source": [
    "#   The radius of a circle is **30 meters**.\n",
    "#   Calculate the area of a circle and assign the value to a variable name of **`area_of_circle`** by taking user **`input()`**\n",
    "radius = int(input(\"Enter the radius of the circle: \"))\n",
    "area_of_circle = 3.1415 * radius ** 2\n",
    "\n",
    "print(\"The area of the circle is\",area_of_circle)"
   ]
  },
  {
   "cell_type": "code",
   "execution_count": null,
   "id": "dd62b786",
   "metadata": {},
   "outputs": [],
   "source": [
    "#  Calculate the circumference of a circle and assign the value to a variable name of **`circum_of_circle`** by taking user **`input()`**\n",
    "\n",
    "radius = int(input(\"Enter the radius of the circle: \"))\n",
    "circum_of_circle = 2 * 3.1415 * radius\n",
    "\n",
    "print(\"The circumference of the circle is\",circum_of_circle)"
   ]
  },
  {
   "cell_type": "code",
   "execution_count": null,
   "id": "043729da",
   "metadata": {},
   "outputs": [],
   "source": [
    "#   Take radius as user **`input()`** and calculate the area.\n",
    "\n",
    "radius = int(input(\"Enter the radius of the circle: \"))\n",
    "area_of_circle = 3.1415 * radius ** 2\n",
    "\n",
    "print(\"The area of the circle is\",area_of_circle)"
   ]
  },
  {
   "cell_type": "code",
   "execution_count": 1,
   "id": "d2b4cc4a",
   "metadata": {},
   "outputs": [],
   "source": [
    " # Use the built-in **`input()`** function to get first name, last name, country and age from a user and store the value to their corresponding variable names\n",
    "\n",
    "first_name = input(\"Enter your first name: \")\n",
    "last_name = input(\"Enter your last name: \")\n",
    "country = input(\"Enter your country: \")\n",
    "age = input(\"Enter your age: \")\n"
   ]
  },
  {
   "cell_type": "code",
   "execution_count": null,
   "id": "c016bd39",
   "metadata": {},
   "outputs": [
    {
     "name": "stdout",
     "output_type": "stream",
     "text": [
      "Help on built-in function len in module builtins:\n",
      "\n",
      "len(obj, /)\n",
      "    Return the number of items in a container.\n",
      "\n"
     ]
    }
   ],
   "source": [
    "# URun help (**`keywords`**) in Python shell or in your file to check for the Python reserved words or keywords\n",
    "help(len)"
   ]
  },
  {
   "cell_type": "code",
   "execution_count": null,
   "id": "2a19874a",
   "metadata": {},
   "outputs": [],
   "source": [
    "#1. Write a python comment saying **`Python variables and Constants`**\n",
    "#python variable and  constants\n",
    "\n",
    "#2. Declare a **`first_name`** variable and assign a value to it\n",
    "first_name = \"Pragyan\"\n",
    "\n",
    "# Declare a **`last_name`** variable and assign a value to it\n",
    "last_name = \"Khadka\"\n",
    "\n",
    "#   Declare a **`full_name`** variable and assign a value to it\n",
    "full_name =\"Pragyan Khadka\"\n",
    "\n",
    "#   Declare a variable **`is_light_on`** and assign a value to it\n",
    "is_light_on = True\n",
    "\n",
    "# Declare multiple variable on one line\n",
    "first_name,last_name = \"Pragyan\",\"Khadka\"\n",
    "\n",
    "#   Check the data type of all your variables using **`type()`** built-in function\n",
    "first_name = \"Pragyan\"\n",
    "is_light_on = True\n",
    "print(type(first_name))\n",
    "print(type(is_light_on))\n",
    "\n",
    "#   Using the **`len()`** built-in function, find the length of your first name\n",
    "first_name = \"Pragyan\"\n",
    "print(len(first_name))\n",
    "\n",
    "#   Compare the length of your **`first_name`** and your **`last_name`**\n",
    "first_name = \"Pragyan\"\n",
    "last_name = \"Khadka\"\n",
    "len(first_name) == len(last_name)\n",
    "\n",
    "#    Add **`num_1`** and **`num_2`** and assign the value to a variable **`total`**\n",
    "num_1 = 6\n",
    "num_2 = 4\n",
    "\n",
    "total = num_1 + num_2\n",
    "print(\"The sum of both numbers is\",total)\n",
    "\n",
    "#    Subtract **`num_2`** from **`num_1`** and assign the value to a variable **`difference`**\n",
    "num_1 = 6\n",
    "num_2 = 4\n",
    "\n",
    "difference = num_1 - num_2\n",
    "print(\"The sub of both numbers is\",difference)\n",
    "\n",
    "#    Multiply **`num_1`** and **`num_2`** and assign the value to a variable **`product`**\n",
    "num_1 = 6\n",
    "num_2 = 4\n",
    "\n",
    "product = num_1 * num_2\n",
    "print(\"The product of both numbers is\",product)\n",
    "\n",
    "#   Divide **`num_1`** by **`num_2`** and assign the value to a variable **`division`**\n",
    "num_1 = 6\n",
    "num_2 = 4\n",
    "\n",
    "division = num_1 / num_2\n",
    "print(\"The quotient of both numbers is\",division)\n",
    "\n",
    "# Use modulus division to find **`num_2`** divided by **`num_1`** and assign the value to a variable **`remainder`**\n",
    "num_1 = 6\n",
    "num_2 = 4\n",
    "\n",
    "reminder = num_2 % num_1\n",
    "\n",
    "print(\"The reminder of both numbers is\",reminder)\n",
    "\n",
    "# Calculate **`num_1`** to the power of **`num_2`** and assign the value to a variable **`exp`**\n",
    "num_1 = 6\n",
    "num_2 = 4\n",
    "\n",
    "exp = num_2 ** num_1\n",
    "\n",
    "print(\"The exponent of both numbers is\",exp)\n",
    "\n",
    "# Find floor division of **`num_1`** by **`num_2`** and assign the value to a variable **`floor_division`**\n",
    "num_1 = 6\n",
    "num_2 = 4\n",
    "\n",
    "floor_division = num_1 // num_2\n",
    "\n",
    "print(\"The floor division of both numbers is\",floor_division)\n",
    "\n",
    "#   The radius of a circle is **30 meters**.\n",
    "#   Calculate the area of a circle and assign the value to a variable name of **`area_of_circle`** by taking user **`input()`**\n",
    "radius = int(input(\"Enter the radius of the circle: \"))\n",
    "area_of_circle = 3.1415 * radius ** 2\n",
    "\n",
    "print(\"The area of the circle is\",area_of_circle)\n",
    "\n",
    "#  Calculate the circumference of a circle and assign the value to a variable name of **`circum_of_circle`** by taking user **`input()`**\n",
    "\n",
    "radius = int(input(\"Enter the radius of the circle: \"))\n",
    "circum_of_circle = 2 * 3.1415 * radius\n",
    "\n",
    "print(\"The circumference of the circle is\",circum_of_circle)\n",
    "\n",
    "#   Take radius as user **`input()`** and calculate the area.\n",
    "\n",
    "radius = int(input(\"Enter the radius of the circle: \"))\n",
    "area_of_circle = 3.1415 * radius ** 2\n",
    "\n",
    "print(\"The area of the circle is\",area_of_circle)\n",
    "\n",
    " # Use the built-in **`input()`** function to get first name, last name, country and age from a user and store the value to their corresponding variable names\n",
    "\n",
    "first_name = input(\"Enter your first name: \")\n",
    "last_name = input(\"Enter your last name: \")\n",
    "country = input(\"Enter your country: \")\n",
    "age = input(\"Enter your age: \")\n",
    "\n",
    "# URun help (**`keywords`**) in Python shell or in your file to check for the Python reserved words or keywords\n",
    "help(len)"
   ]
  },
  {
   "cell_type": "code",
   "execution_count": null,
   "id": "a0baf8f6",
   "metadata": {},
   "outputs": [],
   "source": []
  }
 ],
 "metadata": {
  "kernelspec": {
   "display_name": "Python 3",
   "language": "python",
   "name": "python3"
  },
  "language_info": {
   "codemirror_mode": {
    "name": "ipython",
    "version": 3
   },
   "file_extension": ".py",
   "mimetype": "text/x-python",
   "name": "python",
   "nbconvert_exporter": "python",
   "pygments_lexer": "ipython3",
   "version": "3.12.2"
  },
  "widgets": {
   "application/vnd.jupyter.widget-state+json": {
    "state": {},
    "version_major": 2,
    "version_minor": 0
   }
  }
 },
 "nbformat": 4,
 "nbformat_minor": 5
}
